{
 "cells": [
  {
   "cell_type": "code",
   "execution_count": 1,
   "metadata": {},
   "outputs": [],
   "source": [
    "#------------ Modules Imports ----------------------#\n",
    "%load_ext autoreload\n",
    "%autoreload 2\n",
    "\n",
    "import numpy as np \n",
    "import pandas as pd\n",
    "from math import *\n",
    "import QuantLib as ql \n",
    "from makeSwap import makeSwap\n",
    "from makeSwaption import makeSwaption\n",
    "from makeFxOption import makeFxOption\n",
    "from makeCapFloor import makeCapFloor \n",
    "\n",
    "from SIMM_Kit import *\n",
    "%matplotlib inline"
   ]
  },
  {
   "cell_type": "markdown",
   "metadata": {},
   "source": [
    "### Portfolio 1: Portfolio of swaps"
   ]
  },
  {
   "cell_type": "code",
   "execution_count": 2,
   "metadata": {},
   "outputs": [],
   "source": [
    "#swaps parameters\n",
    "startDateVect = [ql.Date(15, 8, 2020)]\n",
    "maturitiesVect = [ql.Period(\"5Y\") ]\n",
    "endDateVect = [startDateVect[i] + maturitiesVect[i] for i in range(len(startDateVect))]\n",
    "nominalsVect = [1e6 ]\n",
    "fixedRateVect = [0.03]\n",
    "indexVect=[\"euribor 6M\"]\n",
    "fixedLegtenors = [ql.Period(\"6M\")]\n",
    "swapTypes = [ql.VanillaSwap.Receiver]\n",
    "\n",
    "#Evaluation Date\n",
    "evaluationDate = ql.Date(20,8,2020)\n",
    "\n",
    "initialParamsValues = [nominalsVect,startDateVect,maturitiesVect,fixedRateVect,indexVect,fixedLegtenors,swapTypes]\n",
    "\n",
    "# Discount and forecast curves\n",
    "depoFraSwapCurve = makeEuriborHandle(startDateVect[0], endDateVect[0], fixedLegtenors[0])"
   ]
  },
  {
   "cell_type": "markdown",
   "metadata": {},
   "source": [
    "##### Initial margin calculation under Grid Method and SIMM method"
   ]
  },
  {
   "cell_type": "code",
   "execution_count": 3,
   "metadata": {},
   "outputs": [],
   "source": [
    "IM_Grid = IM_Grid_method(im_Schedule,  initialParamsValues, evaluationDate, depoFraSwapCurve, depoFraSwapCurve)[2]\n",
    "IM_SIMM = 28000"
   ]
  },
  {
   "cell_type": "code",
   "execution_count": 4,
   "metadata": {},
   "outputs": [
    {
     "data": {
      "text/plain": [
       "(28305.62941703243, 20000.0)"
      ]
     },
     "execution_count": 4,
     "metadata": {},
     "output_type": "execute_result"
    }
   ],
   "source": [
    "IM_SIMM = Compute_IM(evaluationDate, initialParamsValues, depoFraSwapCurve, 230)\n",
    "IM_SIMM, IM_Grid"
   ]
  },
  {
   "cell_type": "code",
   "execution_count": 5,
   "metadata": {},
   "outputs": [
    {
     "data": {
      "text/plain": [
       "<matplotlib.axes._subplots.AxesSubplot at 0x13d9f8c4488>"
      ]
     },
     "execution_count": 5,
     "metadata": {},
     "output_type": "execute_result"
    },
    {
     "data": {
      "image/png": "[encoded data removed]",
      "text/plain": [
       "<Figure size 432x288 with 1 Axes>"
      ]
     },
     "metadata": {
      "needs_background": "light"
     },
     "output_type": "display_data"
    }
   ],
   "source": [
    "df = pd.DataFrame({'GRID': IM_Grid, \n",
    "                  'SIMM': IM_SIMM}, index=[0])\n",
    "df.plot.bar()"
   ]
  }
 ],
 "metadata": {
  "kernelspec": {
   "display_name": "Python 3",
   "language": "python",
   "name": "python3"
  },
  "language_info": {
   "codemirror_mode": {
    "name": "ipython",
    "version": 3
   },
   "file_extension": ".py",
   "mimetype": "text/x-python",
   "name": "python",
   "nbconvert_exporter": "python",
   "pygments_lexer": "ipython3",
   "version": "3.7.4"
  }
 },
 "nbformat": 4,
 "nbformat_minor": 4
}
