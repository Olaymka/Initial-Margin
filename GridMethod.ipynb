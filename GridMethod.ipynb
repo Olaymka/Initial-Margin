{
 "cells": [
  {
   "cell_type": "code",
   "execution_count": 152,
   "metadata": {},
   "outputs": [
    {
     "name": "stdout",
     "output_type": "stream",
     "text": [
      "The autoreload extension is already loaded. To reload it, use:\n",
      "  %reload_ext autoreload\n"
     ]
    }
   ],
   "source": [
    "%load_ext autoreload\n",
    "%autoreload 2\n",
    "\n",
    "import numpy as np\n",
    "import pandas as pd\n",
    "import QuantLib as ql\n",
    "import pricing_kit as pk\n",
    "import matplotlib.pyplot as plt\n",
    "import datetime\n",
    "\n",
    "%matplotlib inline"
   ]
  },
  {
   "cell_type": "code",
   "execution_count": 153,
   "metadata": {},
   "outputs": [
    {
     "data": {
      "text/html": [
       "<div>\n",
       "<style scoped>\n",
       "    .dataframe tbody tr th:only-of-type {\n",
       "        vertical-align: middle;\n",
       "    }\n",
       "\n",
       "    .dataframe tbody tr th {\n",
       "        vertical-align: top;\n",
       "    }\n",
       "\n",
       "    .dataframe thead th {\n",
       "        text-align: right;\n",
       "    }\n",
       "</style>\n",
       "<table border=\"1\" class=\"dataframe\">\n",
       "  <thead>\n",
       "    <tr style=\"text-align: right;\">\n",
       "      <th></th>\n",
       "      <th>Deal</th>\n",
       "      <th>Product type</th>\n",
       "      <th>Valuation Date</th>\n",
       "      <th>Start Date</th>\n",
       "      <th>Maturity (Y)</th>\n",
       "      <th>Nominal</th>\n",
       "      <th>Fixed Rate</th>\n",
       "      <th>Fixed Leg Tenor</th>\n",
       "      <th>Index</th>\n",
       "      <th>Swap Type</th>\n",
       "    </tr>\n",
       "  </thead>\n",
       "  <tbody>\n",
       "    <tr>\n",
       "      <td>0</td>\n",
       "      <td>Vanilla swap</td>\n",
       "      <td>Rates</td>\n",
       "      <td>2020-07-13</td>\n",
       "      <td>2020-07-08</td>\n",
       "      <td>7</td>\n",
       "      <td>600000</td>\n",
       "      <td>0.04</td>\n",
       "      <td>1Y</td>\n",
       "      <td>Euribor6M</td>\n",
       "      <td>Receiver</td>\n",
       "    </tr>\n",
       "    <tr>\n",
       "      <td>1</td>\n",
       "      <td>Vanilla swap</td>\n",
       "      <td>Rates</td>\n",
       "      <td>2020-07-13</td>\n",
       "      <td>2020-07-08</td>\n",
       "      <td>5</td>\n",
       "      <td>1000000</td>\n",
       "      <td>0.04</td>\n",
       "      <td>6M</td>\n",
       "      <td>Euribor3M</td>\n",
       "      <td>Payer</td>\n",
       "    </tr>\n",
       "  </tbody>\n",
       "</table>\n",
       "</div>"
      ],
      "text/plain": [
       "           Deal Product type Valuation Date Start Date  Maturity (Y)  Nominal  \\\n",
       "0  Vanilla swap        Rates     2020-07-13 2020-07-08             7   600000   \n",
       "1  Vanilla swap        Rates     2020-07-13 2020-07-08             5  1000000   \n",
       "\n",
       "   Fixed Rate Fixed Leg Tenor      Index Swap Type  \n",
       "0        0.04              1Y  Euribor6M  Receiver  \n",
       "1        0.04              6M  Euribor3M     Payer  "
      ]
     },
     "execution_count": 153,
     "metadata": {},
     "output_type": "execute_result"
    }
   ],
   "source": [
    "inputData = pd.read_excel('InputData.xlsx', index_col=None)\n",
    "inputData"
   ]
  },
  {
   "cell_type": "markdown",
   "metadata": {},
   "source": [
    "### Schedule or Grid Method"
   ]
  },
  {
   "cell_type": "code",
   "execution_count": 154,
   "metadata": {},
   "outputs": [
    {
     "data": {
      "text/html": [
       "<div>\n",
       "<style scoped>\n",
       "    .dataframe tbody tr th:only-of-type {\n",
       "        vertical-align: middle;\n",
       "    }\n",
       "\n",
       "    .dataframe tbody tr th {\n",
       "        vertical-align: top;\n",
       "    }\n",
       "\n",
       "    .dataframe thead th {\n",
       "        text-align: right;\n",
       "    }\n",
       "</style>\n",
       "<table border=\"1\" class=\"dataframe\">\n",
       "  <thead>\n",
       "    <tr style=\"text-align: right;\">\n",
       "      <th></th>\n",
       "      <th>Maturity (in years)</th>\n",
       "      <th>Credit</th>\n",
       "      <th>Equity</th>\n",
       "      <th>FX</th>\n",
       "      <th>Rates</th>\n",
       "      <th>Other</th>\n",
       "    </tr>\n",
       "  </thead>\n",
       "  <tbody>\n",
       "    <tr>\n",
       "      <td>0</td>\n",
       "      <td>[0,2]</td>\n",
       "      <td>0.02</td>\n",
       "      <td>0.15</td>\n",
       "      <td>0.06</td>\n",
       "      <td>0.01</td>\n",
       "      <td>0.15</td>\n",
       "    </tr>\n",
       "    <tr>\n",
       "      <td>1</td>\n",
       "      <td>[2,5]</td>\n",
       "      <td>0.05</td>\n",
       "      <td>0.15</td>\n",
       "      <td>0.06</td>\n",
       "      <td>0.02</td>\n",
       "      <td>0.15</td>\n",
       "    </tr>\n",
       "    <tr>\n",
       "      <td>2</td>\n",
       "      <td>&gt;5</td>\n",
       "      <td>0.10</td>\n",
       "      <td>0.15</td>\n",
       "      <td>0.06</td>\n",
       "      <td>0.04</td>\n",
       "      <td>0.15</td>\n",
       "    </tr>\n",
       "  </tbody>\n",
       "</table>\n",
       "</div>"
      ],
      "text/plain": [
       "  Maturity (in years)  Credit  Equity    FX  Rates  Other\n",
       "0               [0,2]    0.02    0.15  0.06   0.01   0.15\n",
       "1               [2,5]    0.05    0.15  0.06   0.02   0.15\n",
       "2                  >5    0.10    0.15  0.06   0.04   0.15"
      ]
     },
     "execution_count": 154,
     "metadata": {},
     "output_type": "execute_result"
    }
   ],
   "source": [
    "#Standardised initial margin schedule\n",
    "im_Schedule = pd.DataFrame(np.array([[\"[0,2]\",0.02,0.15,0.06,0.01,0.15],[\"[2,5]\",0.05,0.15,0.06,0.02,0.15],[\">5\",0.1,0.15,0.06,0.04,0.15]]),\n",
    "              columns = [\"Maturity (in years)\", \"Credit\",\"Equity\",\"FX\",\"Rates\", \"Other\"])\n",
    "im_Schedule = im_Schedule.astype({\"Credit\": float, \"Equity\": float, \"FX\": float, \"Rates\": float, \"Other\": float})\n",
    "im_Schedule"
   ]
  },
  {
   "cell_type": "code",
   "execution_count": 148,
   "metadata": {},
   "outputs": [],
   "source": [
    "#Evaluation date\n",
    "valuationDate = ql.Date(inputData.loc[0, \"Valuation Date\"].strftime(\"%Y-%m-%d\"), '%Y-%m-%d')\n",
    "StartDateVect = [ql.Date(inputData.loc[i, \"Start Date\"].strftime(\"%Y-%m-%d\"), '%Y-%m-%d') for i in range(inputData.shape[0])]\n",
    "\n",
    "#MarketData set up\n",
    "rateHandleVect = [ql.QuoteHandle(ql.SimpleQuote(inputData.loc[i, \"Fixed Rate\"])) for i in range(inputData.shape[0])]\n",
    "dayCounter = ql.Actual365Fixed()\n",
    "YieldTermStructVect =  [ql.FlatForward(StartDateVect[i], rateHandleVect[i], dayCounter) for i in range(inputData.shape[0])]\n",
    "#YieldTermStructVect =  [ql.FlatForward(valuationDate, rateHandleVect[i], dayCounter) for i in range(inputData.shape[0])]\n",
    "\n",
    "for i in range(inputData.shape[0]): \n",
    "    YieldTermStructVect[i].enableExtrapolation()\n",
    "    \n",
    "YieldTermStructHandleVect = [ql.RelinkableYieldTermStructureHandle(YieldTermStructVect[i]) for i in range(inputData.shape[0])]\n",
    "euribor6m = [ql.Euribor6M(YieldTermStructHandleVect[i]) for i in range(inputData.shape[0])]\n",
    "\n",
    "#set a dummy portfolio from input data\n",
    "portfolio = [pk.swapGenerator(ql.Date(inputData.loc[i, \"Start Date\"].strftime(\"%Y-%m-%d\"),'%Y-%m-%d') + ql.Period(\"2d\"),\n",
    "                          ql.Period(str(inputData.loc[i, \"Maturity (Y)\"])+\"Y\"), np.float64(inputData.loc[i, \"Nominal\"]), \n",
    "                           ql.SimpleQuote(inputData.loc[i, \"Fixed Rate\"]).value(), euribor6m[i], \n",
    "                          ql.VanillaSwap.Receiver if inputData.loc[i, \"Swap Type\"]==\"Receiver\" else ql.VanillaSwap.Payer) \n",
    "             for i in range(inputData.shape[0])]"
   ]
  },
  {
   "cell_type": "code",
   "execution_count": 17,
   "metadata": {},
   "outputs": [],
   "source": [
    "import pandas as pd\n",
    "def get_spot_rates(yieldcurve):\n",
    "    keytenors = [0, 6, 12, 18, 24]\n",
    "    spotDate = yieldcurve.referenceDate()\n",
    "    dates = [ql.TARGET().advance(spotDate, t, ql.Months) for t in keytenors ]\n",
    "    rates = [yieldcurve.zeroRate(t, ql.Actual365Fixed(), ql.Continuous) for t in dates ]\n",
    "    eq_rate = [rates[d].equivalentRate(ql.Actual365Fixed(), ql.Continuous, ql.Semiannual, spotDate , dates[d]).rate() for d in range(len(dates))]\n",
    "    spots = [eq_r for eq_r in eq_rate]\n",
    "    df = pd.DataFrame(list(zip(dates, spots)),columns=[\"The Dates\",\"The Rates\"], index=['']*len(dates) )\n",
    "    return df"
   ]
  },
  {
   "cell_type": "code",
   "execution_count": 158,
   "metadata": {},
   "outputs": [],
   "source": [
    "def IM_Grid_method(im_Schedule: pd.DataFrame, portfolio, inputData: pd.DataFrame, valuationDate): \n",
    "    \"\"\"\n",
    "    Return the initial margin of a portfolio following the schedule method\n",
    "        parameters: \n",
    "            standardGrid(DataFrame): Standard margin ratio grid per product class\n",
    "            inputData(DataFrame): portfolio database with attributes:Notiional, Maturity, Product type...\n",
    "            portfolio: list of quantlib financial product objects\n",
    "            \n",
    "    \"\"\"\n",
    "    init_m = 0\n",
    "    for j in [\"Credit\", \"Equity\", \"FX\", \"Rates\", \"other\"]: \n",
    "        portfolio_filtered_indexes = inputData[inputData[\"Product type\"]==j].index.values.tolist()\n",
    "        for i in portfolio_filtered_indexes: \n",
    "            if inputData.loc[i, \"Maturity (Y)\"]<=5 and inputData.loc[i, \"Maturity (Y)\"] >2:\n",
    "                margin_ratio = im_Schedule.loc[1,j]\n",
    "                init_m += margin_ratio * inputData.loc[i,\"Nominal\"]\n",
    "            elif inputData.loc[i, \"Maturity (Y)\"]<=0 and inputData.loc[i, \"Maturity (Y)\"] >2:\n",
    "                margin_ratio = im_Schedule.loc[0,j]\n",
    "                init_m += margin_ratio * inputData.loc[i,\"Nominal\"]\n",
    "            else: \n",
    "                margin_ratio = im_Schedule.loc[2,j]\n",
    "                init_m += margin_ratio * inputData.loc[i,\"Nominal\"]\n",
    "                \n",
    "    ql.Settings.instance().evaluationDate = valuationDate\n",
    "    \n",
    "    portfolio_npv=np.zeros((len(portfolio)))\n",
    "    \n",
    "    #Market data setup\n",
    "    rateHandleVect = [ql.QuoteHandle(ql.SimpleQuote(inputData.loc[i, \"Fixed Rate\"])) for i in range(inputData.shape[0])]\n",
    "    dayCounter = ql.Actual365Fixed()\n",
    "    YieldTermStructVect =  [ql.FlatForward(valuationDate, rateHandleVect[i], dayCounter) for i in range(inputData.shape[0])]\n",
    "    YieldTermStructHandleVect = [ql.RelinkableYieldTermStructureHandle(YieldTermStructVect[i]) for i in range(inputData.shape[0])]\n",
    "    \n",
    "    for i in range(len(portfolio_npv)): \n",
    "        datesList=[ql.Date(j,7,2020) for j in range(8,13) if euribor6m[i].isValidFixingDate(ql.Date(j,7,2020))]    \n",
    "        euribor6m[i].addFixings(datesList, [0.05]*len(datesList))\n",
    "        \n",
    "        YieldTermStructVect[i].enableExtrapolation()\n",
    "        YieldTermStructHandleVect[i].linkTo(YieldTermStructVect[i])\n",
    "        engine = ql.DiscountingSwapEngine(YieldTermStructHandleVect[i])\n",
    "        portfolio[i][0].setPricingEngine(engine)\n",
    "        portfolio_npv[i] = portfolio[i][0].NPV()\n",
    "        \n",
    "    NGR = np.absolute(np.sum(portfolio_npv))/np.sum(np.absolute(portfolio_npv)) if np.sum(portfolio_npv)/np.sum(np.absolute(portfolio_npv))>0 else 0\n",
    "    \n",
    "    return [0.4*init_m + 0.6*init_m*NGR, init_m, NGR, portfolio_npv[0], portfolio_npv[1]]"
   ]
  },
  {
   "cell_type": "code",
   "execution_count": 162,
   "metadata": {},
   "outputs": [
    {
     "data": {
      "text/plain": [
       "[0, 1]"
      ]
     },
     "execution_count": 162,
     "metadata": {},
     "output_type": "execute_result"
    }
   ],
   "source": [
    "portfolio_filtered_indexes = inputData[inputData[\"Product type\"]==\"Rates\"].index.values.tolist()\n",
    "portfolio_filtered_indexes"
   ]
  },
  {
   "cell_type": "code",
   "execution_count": 157,
   "metadata": {},
   "outputs": [
    {
     "data": {
      "text/plain": [
       "[(<QuantLib.QuantLib.VanillaSwap; proxy of <Swig Object of type 'boost::shared_ptr< VanillaSwap > *' at 0x000002395C3FF750> >,\n",
       "  [Date(8,7,2020),\n",
       "   Date(9,7,2020),\n",
       "   Date(8,1,2021),\n",
       "   Date(8,7,2021),\n",
       "   Date(10,1,2022),\n",
       "   Date(8,7,2022),\n",
       "   Date(10,1,2023),\n",
       "   Date(10,7,2023),\n",
       "   Date(10,1,2024),\n",
       "   Date(10,7,2024),\n",
       "   Date(9,1,2025),\n",
       "   Date(10,7,2025),\n",
       "   Date(8,1,2026),\n",
       "   Date(9,7,2026),\n",
       "   Date(8,1,2027)]),\n",
       " (<QuantLib.QuantLib.VanillaSwap; proxy of <Swig Object of type 'boost::shared_ptr< VanillaSwap > *' at 0x000002395CB7EC30> >,\n",
       "  [Date(8,7,2020),\n",
       "   Date(7,1,2021),\n",
       "   Date(8,7,2021),\n",
       "   Date(6,1,2022),\n",
       "   Date(7,7,2022),\n",
       "   Date(6,1,2023),\n",
       "   Date(6,7,2023),\n",
       "   Date(8,1,2024),\n",
       "   Date(8,7,2024),\n",
       "   Date(8,1,2025)])]"
      ]
     },
     "execution_count": 157,
     "metadata": {},
     "output_type": "execute_result"
    }
   ],
   "source": [
    "portfolio"
   ]
  },
  {
   "cell_type": "code",
   "execution_count": 141,
   "metadata": {},
   "outputs": [
    {
     "name": "stdout",
     "output_type": "stream",
     "text": [
      "[-6042.33429644  8869.28253389]\n",
      "0.1895802627990195\n"
     ]
    }
   ],
   "source": [
    "valuationDate =  ql.Date(12,9,2020)\n",
    "ql.Settings.instance().evaluationDate = valuationDate\n",
    "    \n",
    "portfolio_npv=np.zeros((len(portfolio)))\n",
    "    \n",
    "rateHandleVect = [ql.QuoteHandle(ql.SimpleQuote(inputData.loc[i, \"Fixed Rate\"])) for i in range(inputData.shape[0])]\n",
    "dayCounter = ql.Actual365Fixed()\n",
    "YieldTermStructVect =  [ql.FlatForward(valuationDate, rateHandleVect[i], dayCounter) for i in range(inputData.shape[0])]\n",
    "YieldTermStructHandleVect = [ql.RelinkableYieldTermStructureHandle(YieldTermStructVect[i]) for i in range(inputData.shape[0])]\n",
    "    \n",
    "for i in range(len(portfolio_npv)): \n",
    "    datesList=[ql.Date(j,7,2020) for j in range(8,13) if euribor6m[i].isValidFixingDate(ql.Date(j,7,2020))]    \n",
    "    euribor6m[i].addFixings(datesList, [0.05]*len(datesList))\n",
    "        \n",
    "    YieldTermStructVect[i].enableExtrapolation()\n",
    "    YieldTermStructHandleVect[i].linkTo(YieldTermStructVect[i])\n",
    "    engine = ql.DiscountingSwapEngine(YieldTermStructHandleVect[i])\n",
    "    portfolio[i][0].setPricingEngine(engine)\n",
    "    portfolio_npv[i] = portfolio[i][0].NPV()\n",
    "    \n",
    "A = np.abs(np.sum(portfolio_npv))\n",
    "B = np.sum((np.absolute(portfolio_npv)))\n",
    "    \n",
    "print(portfolio_npv)\n",
    "print (A/B)"
   ]
  },
  {
   "cell_type": "code",
   "execution_count": 159,
   "metadata": {},
   "outputs": [
    {
     "data": {
      "text/plain": [
       "[22604.918937894185,\n",
       " 44000.0,\n",
       " 0.18958026279902218,\n",
       " -6027.123480988608,\n",
       " 8846.955232358247]"
      ]
     },
     "execution_count": 159,
     "metadata": {},
     "output_type": "execute_result"
    }
   ],
   "source": [
    "IM_Grid_method(im_Schedule, portfolio, inputData, ql.Date(20,8,2020))"
   ]
  }
 ],
 "metadata": {
  "kernelspec": {
   "display_name": "Python 3",
   "language": "python",
   "name": "python3"
  },
  "language_info": {
   "codemirror_mode": {
    "name": "ipython",
    "version": 3
   },
   "file_extension": ".py",
   "mimetype": "text/x-python",
   "name": "python",
   "nbconvert_exporter": "python",
   "pygments_lexer": "ipython3",
   "version": "3.7.4"
  }
 },
 "nbformat": 4,
 "nbformat_minor": 4
}
